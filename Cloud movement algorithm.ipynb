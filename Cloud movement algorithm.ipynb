{
 "cells": [
  {
   "cell_type": "code",
   "execution_count": 99,
   "metadata": {},
   "outputs": [],
   "source": [
    "import numpy as np\n",
    "import matplotlib.pyplot as plt\n",
    "import pandas as pd\n",
    "import pickle\n",
    "import os\n",
    "from PIL import Image\n",
    "import scipy\n",
    "from scipy import misc\n",
    "import cv2\n",
    "import matplotlib.animation as animation\n",
    "%matplotlib inline"
   ]
  },
  {
   "cell_type": "markdown",
   "metadata": {},
   "source": [
    "The grid2grid function takes the calculated coordinate system and returns the transformed x,y"
   ]
  },
  {
   "cell_type": "code",
   "execution_count": 116,
   "metadata": {},
   "outputs": [],
   "source": [
    "def grid2grid(x,y,x_dis, y_dis):\n",
    "    return (int(np.floor(x+x_dis/100.)), int(np.floor(y+y_dis/100.))) #distance divided by 100m per pixel"
   ]
  },
  {
   "cell_type": "markdown",
   "metadata": {},
   "source": [
    "Random generated velocity and image to test whether this algorithm works"
   ]
  },
  {
   "cell_type": "code",
   "execution_count": 101,
   "metadata": {},
   "outputs": [],
   "source": [
    "V = np.zeros((1000,1000,2))\n",
    "V[:,:400,0]=2\n",
    "V[:,400:420,0] = 4\n",
    "V[:,420:450,0] = 6\n",
    "V[:,450:470,0] = 8\n",
    "V[:,470:500,0] = 10\n",
    "V[:,500:,0] = 12\n",
    "\n",
    "V[:400,:,1] = -2\n",
    "V[400:420,:,1] = -4\n",
    "V[420:450,:,1] = -6\n",
    "V[450:470,:,1] = -8\n",
    "V[470:500,:,1] = -10\n",
    "V[500:,:,1] = -12\n",
    "\n",
    "curr_img = np.zeros((1000,1000))\n",
    "curr_img[400:500, 400:500] = 10"
   ]
  },
  {
   "cell_type": "markdown",
   "metadata": {},
   "source": [
    "## Numerical Solutions\n",
    "\n",
    "### Advection\n",
    "To solve for the first order advection equation, numerical solutions are taken to adaptively calculate the image for the next time step and then transform the grid into predicted images\n",
    "$$\n",
    "    I_{x,y}^{t+1} = I_{x,y}^t-\\frac{U*dt}{dx}(I_{x,y}^t-I_{x-dx,y}^{t})- \\frac{V*dt}{dy}(I_{x,y}^t-I_{x,{y-dy}}^t)\n",
    "$$"
   ]
  },
  {
   "cell_type": "code",
   "execution_count": 119,
   "metadata": {},
   "outputs": [
    {
     "name": "stderr",
     "output_type": "stream",
     "text": [
      "D:\\ProgramData\\Anaconda3\\lib\\site-packages\\ipykernel_launcher.py:28: DeprecationWarning: `imsave` is deprecated!\n",
      "`imsave` is deprecated in SciPy 1.0.0, and will be removed in 1.2.0.\n",
      "Use ``imageio.imwrite`` instead.\n"
     ]
    },
    {
     "name": "stdout",
     "output_type": "stream",
     "text": [
      "0  mins processed\n",
      "1  mins processed\n",
      "2  mins processed\n",
      "3  mins processed\n",
      "4  mins processed\n",
      "5  mins processed\n",
      "6  mins processed\n",
      "7  mins processed\n",
      "8  mins processed\n",
      "9  mins processed\n",
      "10  mins processed\n",
      "11  mins processed\n",
      "12  mins processed\n",
      "13  mins processed\n",
      "14  mins processed\n",
      "15  mins processed\n",
      "16  mins processed\n",
      "17  mins processed\n",
      "18  mins processed\n",
      "19  mins processed\n",
      "20  mins processed\n",
      "21  mins processed\n",
      "22  mins processed\n",
      "23  mins processed\n",
      "24  mins processed\n",
      "25  mins processed\n",
      "26  mins processed\n",
      "27  mins processed\n",
      "28  mins processed\n",
      "29  mins processed\n"
     ]
    }
   ],
   "source": [
    "def ADE_solver(curr_img, V , dt, nt):\n",
    "    U = V[:,:,0]\n",
    "    V = V[:,:,1]\n",
    "    pred=[]\n",
    "    In = curr_img.copy()\n",
    "    for t in range(0,dt*nt, dt):\n",
    "        pred_img = np.zeros((1000,1000))\n",
    "        In[1:,1:] = curr_img[1:,1:] -U[1:,1:]*dt/100.*(curr_img[1:,1:]-curr_img[1:,0:-1]) -\\\n",
    "                    V[1:,1:]*dt/100.*(curr_img[1:,1:]-curr_img[0:-1,1:])\n",
    "        x,y = np.where(In!=0)\n",
    "        for (m,n) in zip(x,y):\n",
    "            d_x, d_y = U[m,n]*dt, V[m,n]*dt\n",
    "#            new_mat = diffusion(nx,ny,dt,D)*In[m,n]\n",
    "            (trans_i, trans_j) = grid2grid(m,n,d_y,d_x)\n",
    "            if 0<=trans_i<=999 and 0<=trans_j<=999: \n",
    "#                pred_img[trans_i-int(nx/2):trans_i+int(nx/2), trans_j-int(nx/2):trans_j+int(nx/2)] += new_mat\n",
    "                pred_img[trans_i, trans_j] = In[m,n]\n",
    "        curr_img=pred_img\n",
    "        if t%60==0:\n",
    "#            x,y = np.where(In!=0)\n",
    "#            for (m,n) in zip(x,y):\n",
    "#                d_x, d_y = U[m,n]*t, V[m,n]*t\n",
    "#                new_mat = diffusion(nx,ny,dt,D)*In[m,n]\n",
    "#                (trans_i, trans_j) = grid2grid(m,n,d_y,d_x)\n",
    "#                if 0<=trans_i<=999 and 0<=trans_j<=999: \n",
    "#                    pred_img[trans_i-int(nx/2):trans_i+int(nx/2), trans_j-int(nx/2):trans_j+int(nx/2)] += new_mat\n",
    "            pred_img[pred_img<0.5] = 0\n",
    "            pred_img[pred_img>=0.5] = 1\n",
    "            scipy.misc.imsave(f'D:/Radar Projects/lizhi/for LiZhi/WindField/ADE-{t}.png', pred_img)\n",
    "            print(int(t/60),' mins processed')\n",
    "            pred.append(pred_img)\n",
    "    return pred\n",
    "\n",
    "\n",
    "pred = ADE_solver(curr_img,V,5,360)"
   ]
  },
  {
   "cell_type": "code",
   "execution_count": 112,
   "metadata": {},
   "outputs": [
    {
     "data": {
      "text/plain": [
       "<matplotlib.image.AxesImage at 0x23d22330780>"
      ]
     },
     "execution_count": 112,
     "metadata": {},
     "output_type": "execute_result"
    },
    {
     "data": {
      "image/png": "[encoded data removed]",
      "text/plain": [
       "<Figure size 720x720 with 6 Axes>"
      ]
     },
     "metadata": {},
     "output_type": "display_data"
    }
   ],
   "source": [
    "fig = plt.figure(figsize=(10,10))\n",
    "fig.add_subplot(231)\n",
    "plt.imshow(pred[0])\n",
    "fig.add_subplot(232)\n",
    "plt.imshow(pred[1])\n",
    "fig.add_subplot(233)\n",
    "plt.imshow(pred[2])\n",
    "fig.add_subplot(131)\n",
    "plt.imshow(pred[3])\n",
    "fig.add_subplot(132)\n",
    "plt.imshow(pred[4])\n",
    "fig.add_subplot(133)\n",
    "plt.imshow(pred[5])"
   ]
  },
  {
   "cell_type": "markdown",
   "metadata": {},
   "source": [
    "### Advection + Diffusion\n",
    "\n",
    "The first oder Advection equation is not able to fill the gaps e.g. some pixels run faster than others, then gaps will be created. The other way is to add second order term - diffusion. One simple way of taking this sparse distribution into account is by Gaussian filter. In each pixel, the additional Gaussian diffusion term will be added. This should be calibrated because it can not be realistic high as it will cause merge, and if it is low, it would not cover the gaps. Of course, it depends on velocity field.\n",
    "\n",
    "$$\n",
    "T(x,y,t)=\\frac{1}{4\\pi*dt}exp(\\frac{-(x-x_0)^2}{4Dt_0}+\\frac{-(y-y_0)^2}{4Dt_0})\n",
    "$$\n",
    "\n",
    "$$\n",
    "    I_{x,y}^{t+1} = I_{x,y}^t-\\frac{U*dt}{dx}(I_{x,y}^t-I_{x-dx,y}^{t})- \\frac{V*dt}{dy}(I_{x,y}^t-I_{x,{y-dy}}^t)+\\frac{D*dt}{dx^2}(I_{x+1,y}+I_{x-1,y}-2I_{x,y})+\\frac{D*dt}{dy^2}(I_{x,y+1}+I_{x,y-1}-2I_{x,y})\n",
    "$$\n",
    "\n",
    "Stability Analysis:\n"
   ]
  },
  {
   "cell_type": "code",
   "execution_count": 61,
   "metadata": {},
   "outputs": [],
   "source": [
    "from numba import jit\n",
    "@jit(nopython=True)\n",
    "def diffusion(nx,ny,dt,D):\n",
    "    new_matrix = np.zeros((nx,ny), dtype=np.float64)\n",
    "    X = np.arange(-nx*100,nx*100,nx+1)\n",
    "    Y = np.arange(-ny*100,ny*100,ny+1)\n",
    "    for i in range(nx):\n",
    "        for j in range(ny):\n",
    "            new_matrix[i,j] = np.exp(-X[i]**2/4/D/dt-Y[j]**2/4/D/dt)/1/dt/np.pi\n",
    "    return new_matrix"
   ]
  },
  {
   "cell_type": "code",
   "execution_count": 109,
   "metadata": {},
   "outputs": [
    {
     "name": "stderr",
     "output_type": "stream",
     "text": [
      "D:\\ProgramData\\Anaconda3\\lib\\site-packages\\ipykernel_launcher.py:30: DeprecationWarning: `imsave` is deprecated!\n",
      "`imsave` is deprecated in SciPy 1.0.0, and will be removed in 1.2.0.\n",
      "Use ``imageio.imwrite`` instead.\n"
     ]
    },
    {
     "name": "stdout",
     "output_type": "stream",
     "text": [
      "0  mins processed\n",
      "1  mins processed\n",
      "2  mins processed\n",
      "3  mins processed\n",
      "4  mins processed\n",
      "5  mins processed\n",
      "6  mins processed\n"
     ]
    },
    {
     "ename": "KeyboardInterrupt",
     "evalue": "",
     "output_type": "error",
     "traceback": [
      "\u001b[1;31m---------------------------------------------------------------------------\u001b[0m",
      "\u001b[1;31mKeyboardInterrupt\u001b[0m                         Traceback (most recent call last)",
      "\u001b[1;32m<ipython-input-109-81258583efec>\u001b[0m in \u001b[0;36m<module>\u001b[1;34m()\u001b[0m\n\u001b[0;32m     34\u001b[0m \u001b[1;33m\u001b[0m\u001b[0m\n\u001b[0;32m     35\u001b[0m \u001b[1;33m\u001b[0m\u001b[0m\n\u001b[1;32m---> 36\u001b[1;33m \u001b[0mpred\u001b[0m \u001b[1;33m=\u001b[0m \u001b[0mADE_solver\u001b[0m\u001b[1;33m(\u001b[0m\u001b[0mcurr_img\u001b[0m\u001b[1;33m,\u001b[0m\u001b[0mV\u001b[0m\u001b[1;33m,\u001b[0m\u001b[1;36m0\u001b[0m\u001b[1;33m,\u001b[0m\u001b[1;36m100\u001b[0m\u001b[1;33m,\u001b[0m\u001b[1;36m100\u001b[0m\u001b[1;33m,\u001b[0m\u001b[1;36m5\u001b[0m\u001b[1;33m,\u001b[0m\u001b[1;36m360\u001b[0m\u001b[1;33m)\u001b[0m\u001b[1;33m\u001b[0m\u001b[0m\n\u001b[0m",
      "\u001b[1;32m<ipython-input-109-81258583efec>\u001b[0m in \u001b[0;36mADE_solver\u001b[1;34m(curr_img, V, D, nx, ny, dt, nt)\u001b[0m\n\u001b[0;32m     14\u001b[0m \u001b[1;31m#            new_mat = diffusion(nx,ny,dt,D)*In[m,n]\u001b[0m\u001b[1;33m\u001b[0m\u001b[1;33m\u001b[0m\u001b[0m\n\u001b[0;32m     15\u001b[0m             \u001b[1;33m(\u001b[0m\u001b[0mtrans_i\u001b[0m\u001b[1;33m,\u001b[0m \u001b[0mtrans_j\u001b[0m\u001b[1;33m)\u001b[0m \u001b[1;33m=\u001b[0m \u001b[0mgrid2grid\u001b[0m\u001b[1;33m(\u001b[0m\u001b[0mm\u001b[0m\u001b[1;33m,\u001b[0m\u001b[0mn\u001b[0m\u001b[1;33m,\u001b[0m\u001b[0md_y\u001b[0m\u001b[1;33m,\u001b[0m\u001b[0md_x\u001b[0m\u001b[1;33m)\u001b[0m\u001b[1;33m\u001b[0m\u001b[0m\n\u001b[1;32m---> 16\u001b[1;33m             \u001b[1;32mif\u001b[0m \u001b[1;36m0\u001b[0m\u001b[1;33m<=\u001b[0m\u001b[0mtrans_i\u001b[0m\u001b[1;33m<=\u001b[0m\u001b[1;36m999\u001b[0m \u001b[1;32mand\u001b[0m \u001b[1;36m0\u001b[0m\u001b[1;33m<=\u001b[0m\u001b[0mtrans_j\u001b[0m\u001b[1;33m<=\u001b[0m\u001b[1;36m999\u001b[0m\u001b[1;33m:\u001b[0m\u001b[1;33m\u001b[0m\u001b[0m\n\u001b[0m\u001b[0;32m     17\u001b[0m \u001b[1;31m#                pred_img[trans_i-int(nx/2):trans_i+int(nx/2), trans_j-int(nx/2):trans_j+int(nx/2)] += new_mat\u001b[0m\u001b[1;33m\u001b[0m\u001b[1;33m\u001b[0m\u001b[0m\n\u001b[0;32m     18\u001b[0m                 \u001b[0mpred_img\u001b[0m\u001b[1;33m[\u001b[0m\u001b[0mtrans_i\u001b[0m\u001b[1;33m,\u001b[0m \u001b[0mtrans_j\u001b[0m\u001b[1;33m]\u001b[0m \u001b[1;33m=\u001b[0m \u001b[0mIn\u001b[0m\u001b[1;33m[\u001b[0m\u001b[0mm\u001b[0m\u001b[1;33m,\u001b[0m\u001b[0mn\u001b[0m\u001b[1;33m]\u001b[0m\u001b[1;33m\u001b[0m\u001b[0m\n",
      "\u001b[1;31mKeyboardInterrupt\u001b[0m: "
     ]
    }
   ],
   "source": [
    "def ADE_solver(curr_img, V ,D, nx, ny, dt, nt):\n",
    "    U = V[:,:,0]\n",
    "    V = V[:,:,1]\n",
    "    pred=[]\n",
    "    In = curr_img.copy()\n",
    "    for t in range(0,dt*nt, dt):\n",
    "        pred_img = np.zeros((1000,1000))\n",
    "        In[2:,2:] = curr_img[2:,2:] -U[2:,2:]*dt/100./2*(curr_img[2:,2:]-curr_img[2:,0:-2]) -\\\n",
    "                    V[2:,2:]*dt/100./2*(curr_img[2:,2:]-curr_img[0:-2,2:])+D*dt/100**2*(curr_img[2:,2:]+curr_img[2:,:-2]-\n",
    "                                                                                      2*curr_img[2:,1:-1])+\\\n",
    "                    D*dt/100**2*(curr_img[2:,2:]+curr_img[:-2,2:]-curr_img[1:-1,2:])\n",
    "        x,y = np.where(In!=0)\n",
    "        for (m,n) in zip(x,y):\n",
    "            d_x, d_y = U[m,n]*dt, V[m,n]*dt\n",
    "#            new_mat = diffusion(nx,ny,dt,D)*In[m,n]\n",
    "            (trans_i, trans_j) = grid2grid(m,n,d_y,d_x)\n",
    "            if 0<=trans_i<=999 and 0<=trans_j<=999: \n",
    "#                pred_img[trans_i-int(nx/2):trans_i+int(nx/2), trans_j-int(nx/2):trans_j+int(nx/2)] += new_mat\n",
    "                pred_img[trans_i, trans_j] = In[m,n]\n",
    "        curr_img=pred_img\n",
    "        if t%60==0:\n",
    "#            x,y = np.where(In!=0)\n",
    "#            for (m,n) in zip(x,y):\n",
    "#                d_x, d_y = U[m,n]*t, V[m,n]*t\n",
    "#                new_mat = diffusion(nx,ny,dt,D)*In[m,n]\n",
    "#                (trans_i, trans_j) = grid2grid(m,n,d_y,d_x)\n",
    "#                if 0<=trans_i<=999 and 0<=trans_j<=999: \n",
    "#                    pred_img[trans_i-int(nx/2):trans_i+int(nx/2), trans_j-int(nx/2):trans_j+int(nx/2)] += new_mat\n",
    "            pred_img[pred_img<0.5] = 0\n",
    "            pred_img[pred_img>=0.5] = 1\n",
    "            scipy.misc.imsave(f'D:/Radar Projects/lizhi/for LiZhi/WindField/ADE-diff-{t}.png', pred_img)\n",
    "            print(int(t/60),' mins processed')\n",
    "            pred.append(pred_img)\n",
    "    return pred\n",
    "\n",
    "\n",
    "pred = ADE_solver(curr_img,V,0,100,100,5,360)"
   ]
  },
  {
   "cell_type": "code",
   "execution_count": 107,
   "metadata": {
    "scrolled": false
   },
   "outputs": [
    {
     "data": {
      "text/plain": [
       "<matplotlib.image.AxesImage at 0x23d20070828>"
      ]
     },
     "execution_count": 107,
     "metadata": {},
     "output_type": "execute_result"
    },
    {
     "data": {
      "image/png": "[encoded data removed]",
      "text/plain": [
       "<Figure size 1080x1080 with 6 Axes>"
      ]
     },
     "metadata": {},
     "output_type": "display_data"
    }
   ],
   "source": [
    "fig = plt.figure(figsize=(15,15))\n",
    "fig.add_subplot(231)\n",
    "plt.imshow(pred[0])\n",
    "fig.add_subplot(232)\n",
    "plt.imshow(pred[1])\n",
    "fig.add_subplot(233)\n",
    "plt.imshow(pred[2])\n",
    "fig.add_subplot(131)\n",
    "plt.imshow(pred[3])\n",
    "fig.add_subplot(132)\n",
    "plt.imshow(pred[4])\n",
    "fig.add_subplot(133)\n",
    "plt.imshow(pred[5])"
   ]
  },
  {
   "cell_type": "markdown",
   "metadata": {},
   "source": [
    "## Analytical Solution"
   ]
  },
  {
   "cell_type": "markdown",
   "metadata": {},
   "source": [
    "If the dispersion term can be simulated as Gaussian distribution, the analytical solution of the particle movement can be derived from that. The equations described as below:\n",
    "\n",
    "$$\n",
    "I(x,y,t) = \\frac{I_{total}}{\\sqrt{4\\pi Dt}}exp(-\\frac{(x-ut)^2+(y-vt)^2}{4Dt})\n",
    "$$\n",
    "\n",
    "In this way, the numerical diffusion can be mitigated"
   ]
  },
  {
   "cell_type": "code",
   "execution_count": 132,
   "metadata": {},
   "outputs": [],
   "source": [
    "@jit(nopython=True)\n",
    "def fast_iter(m,n,D,t, grid=1):\n",
    "    X = np.arange(-100*grid,100*grid+100,100)\n",
    "    Y = np.arange(-100*grid,100*grid+100,100)\n",
    "    for i in range(grid*2):\n",
    "        for j in range(grid*2):\n",
    "            unit_I = 1/(4*np.pi*D*t)*np.exp((X[i]**2+Y[j]**2)/4/D/t)\n",
    "    return unit_I"
   ]
  },
  {
   "cell_type": "code",
   "execution_count": 133,
   "metadata": {},
   "outputs": [],
   "source": [
    "def ANA(curr_img, V, D,t,n=3):\n",
    "    U = V[:,:,0]\n",
    "    V = V[:,:,1]\n",
    "    x,y = np.where(curr_img!=0)\n",
    "    next_img = curr_img.copy()\n",
    "    for m,n in zip(x,y):\n",
    "        d_x = U[m,n]*t\n",
    "        d_y = V[m,n]*t\n",
    "        new_mat = np.zeros((n,n))\n",
    "        new_mat = fast_iter(m,n,D,t)\n",
    "        (trans_i, trans_j) = grid2grid(m,n,d_y,d_x)\n",
    "        next_img[int(trans_i-n/2):int(trans_i+n/2+1), int(trans_j-n/2):int(trans_j+n/2+1)] += new_mat\n",
    "    return next_img"
   ]
  },
  {
   "cell_type": "code",
   "execution_count": 134,
   "metadata": {},
   "outputs": [
    {
     "name": "stderr",
     "output_type": "stream",
     "text": [
      "D:\\ProgramData\\Anaconda3\\lib\\site-packages\\ipykernel_launcher.py:6: DeprecationWarning: `imsave` is deprecated!\n",
      "`imsave` is deprecated in SciPy 1.0.0, and will be removed in 1.2.0.\n",
      "Use ``imageio.imwrite`` instead.\n",
      "  \n"
     ]
    },
    {
     "name": "stdout",
     "output_type": "stream",
     "text": [
      "1  mins processed\n",
      "2  mins processed\n",
      "3  mins processed\n",
      "4  mins processed\n"
     ]
    },
    {
     "ename": "KeyboardInterrupt",
     "evalue": "",
     "output_type": "error",
     "traceback": [
      "\u001b[1;31m---------------------------------------------------------------------------\u001b[0m",
      "\u001b[1;31mKeyboardInterrupt\u001b[0m                         Traceback (most recent call last)",
      "\u001b[1;32m<ipython-input-134-b8cc7287de8c>\u001b[0m in \u001b[0;36m<module>\u001b[1;34m()\u001b[0m\n\u001b[0;32m      1\u001b[0m \u001b[1;32mfor\u001b[0m \u001b[0mt\u001b[0m \u001b[1;32min\u001b[0m \u001b[0mrange\u001b[0m\u001b[1;33m(\u001b[0m\u001b[1;36m5\u001b[0m\u001b[1;33m,\u001b[0m\u001b[1;36m1800\u001b[0m\u001b[1;33m,\u001b[0m\u001b[1;36m5\u001b[0m\u001b[1;33m)\u001b[0m\u001b[1;33m:\u001b[0m\u001b[1;33m\u001b[0m\u001b[0m\n\u001b[1;32m----> 2\u001b[1;33m     \u001b[0mpred_img\u001b[0m \u001b[1;33m=\u001b[0m \u001b[0mANA\u001b[0m\u001b[1;33m(\u001b[0m\u001b[0mcurr_img\u001b[0m\u001b[1;33m,\u001b[0m \u001b[0mV\u001b[0m\u001b[1;33m,\u001b[0m \u001b[1;36m0.1\u001b[0m\u001b[1;33m,\u001b[0m \u001b[0mt\u001b[0m\u001b[1;33m)\u001b[0m\u001b[1;33m\u001b[0m\u001b[0m\n\u001b[0m\u001b[0;32m      3\u001b[0m     \u001b[1;32mif\u001b[0m \u001b[0mt\u001b[0m\u001b[1;33m%\u001b[0m\u001b[1;36m60\u001b[0m\u001b[1;33m==\u001b[0m\u001b[1;36m0\u001b[0m\u001b[1;33m:\u001b[0m\u001b[1;33m\u001b[0m\u001b[0m\n\u001b[0;32m      4\u001b[0m         \u001b[0mpred_img\u001b[0m\u001b[1;33m[\u001b[0m\u001b[0mpred_img\u001b[0m\u001b[1;33m<\u001b[0m\u001b[1;36m0.5\u001b[0m\u001b[1;33m]\u001b[0m \u001b[1;33m=\u001b[0m \u001b[1;36m0\u001b[0m\u001b[1;33m\u001b[0m\u001b[0m\n\u001b[0;32m      5\u001b[0m         \u001b[0mpred_img\u001b[0m\u001b[1;33m[\u001b[0m\u001b[0mpred_img\u001b[0m\u001b[1;33m>=\u001b[0m\u001b[1;36m0.5\u001b[0m\u001b[1;33m]\u001b[0m \u001b[1;33m=\u001b[0m \u001b[1;36m1\u001b[0m\u001b[1;33m\u001b[0m\u001b[0m\n",
      "\u001b[1;32m<ipython-input-133-85cfeb2e68a0>\u001b[0m in \u001b[0;36mANA\u001b[1;34m(curr_img, V, D, t, n)\u001b[0m\n\u001b[0;32m     10\u001b[0m         \u001b[0mnew_mat\u001b[0m \u001b[1;33m=\u001b[0m \u001b[0mfast_iter\u001b[0m\u001b[1;33m(\u001b[0m\u001b[0mm\u001b[0m\u001b[1;33m,\u001b[0m\u001b[0mn\u001b[0m\u001b[1;33m,\u001b[0m\u001b[0mD\u001b[0m\u001b[1;33m,\u001b[0m\u001b[0mt\u001b[0m\u001b[1;33m)\u001b[0m\u001b[1;33m\u001b[0m\u001b[0m\n\u001b[0;32m     11\u001b[0m         \u001b[1;33m(\u001b[0m\u001b[0mtrans_i\u001b[0m\u001b[1;33m,\u001b[0m \u001b[0mtrans_j\u001b[0m\u001b[1;33m)\u001b[0m \u001b[1;33m=\u001b[0m \u001b[0mgrid2grid\u001b[0m\u001b[1;33m(\u001b[0m\u001b[0mm\u001b[0m\u001b[1;33m,\u001b[0m\u001b[0mn\u001b[0m\u001b[1;33m,\u001b[0m\u001b[0md_y\u001b[0m\u001b[1;33m,\u001b[0m\u001b[0md_x\u001b[0m\u001b[1;33m)\u001b[0m\u001b[1;33m\u001b[0m\u001b[0m\n\u001b[1;32m---> 12\u001b[1;33m         \u001b[0mnext_img\u001b[0m\u001b[1;33m[\u001b[0m\u001b[0mint\u001b[0m\u001b[1;33m(\u001b[0m\u001b[0mtrans_i\u001b[0m\u001b[1;33m-\u001b[0m\u001b[0mn\u001b[0m\u001b[1;33m/\u001b[0m\u001b[1;36m2\u001b[0m\u001b[1;33m)\u001b[0m\u001b[1;33m:\u001b[0m\u001b[0mint\u001b[0m\u001b[1;33m(\u001b[0m\u001b[0mtrans_i\u001b[0m\u001b[1;33m+\u001b[0m\u001b[0mn\u001b[0m\u001b[1;33m/\u001b[0m\u001b[1;36m2\u001b[0m\u001b[1;33m+\u001b[0m\u001b[1;36m1\u001b[0m\u001b[1;33m)\u001b[0m\u001b[1;33m,\u001b[0m \u001b[0mint\u001b[0m\u001b[1;33m(\u001b[0m\u001b[0mtrans_j\u001b[0m\u001b[1;33m-\u001b[0m\u001b[0mn\u001b[0m\u001b[1;33m/\u001b[0m\u001b[1;36m2\u001b[0m\u001b[1;33m)\u001b[0m\u001b[1;33m:\u001b[0m\u001b[0mint\u001b[0m\u001b[1;33m(\u001b[0m\u001b[0mtrans_j\u001b[0m\u001b[1;33m+\u001b[0m\u001b[0mn\u001b[0m\u001b[1;33m/\u001b[0m\u001b[1;36m2\u001b[0m\u001b[1;33m+\u001b[0m\u001b[1;36m1\u001b[0m\u001b[1;33m)\u001b[0m\u001b[1;33m]\u001b[0m \u001b[1;33m+=\u001b[0m \u001b[0mnew_mat\u001b[0m\u001b[1;33m\u001b[0m\u001b[0m\n\u001b[0m\u001b[0;32m     13\u001b[0m     \u001b[1;32mreturn\u001b[0m \u001b[0mnext_img\u001b[0m\u001b[1;33m\u001b[0m\u001b[0m\n",
      "\u001b[1;31mKeyboardInterrupt\u001b[0m: "
     ]
    }
   ],
   "source": [
    "for t in range(5,1800,5):\n",
    "    pred_img = ANA(curr_img, V, 0.1, t)\n",
    "    if t%60==0:\n",
    "        pred_img[pred_img<0.5] = 0\n",
    "        pred_img[pred_img>=0.5] = 1\n",
    "        scipy.misc.imsave(f'D:/Radar Projects/lizhi/for LiZhi/WindField/ADE-ana-{t}.png', pred_img)\n",
    "        print(int(t/60),' mins processed')"
   ]
  },
  {
   "cell_type": "code",
   "execution_count": null,
   "metadata": {},
   "outputs": [],
   "source": []
  }
 ],
 "metadata": {
  "kernelspec": {
   "display_name": "Python 3",
   "language": "python",
   "name": "python3"
  },
  "language_info": {
   "codemirror_mode": {
    "name": "ipython",
    "version": 3
   },
   "file_extension": ".py",
   "mimetype": "text/x-python",
   "name": "python",
   "nbconvert_exporter": "python",
   "pygments_lexer": "ipython3",
   "version": "3.6.5"
  }
 },
 "nbformat": 4,
 "nbformat_minor": 2
}
